{
 "metadata": {
  "name": ""
 },
 "nbformat": 3,
 "nbformat_minor": 0,
 "worksheets": [
  {
   "cells": [
    {
     "cell_type": "markdown",
     "metadata": {},
     "source": [
      "# Sequences"
     ]
    },
    {
     "cell_type": "markdown",
     "metadata": {},
     "source": [
      "## `sequence.DNA`\n",
      "\n",
      "`sequence.DNA` is the core data structure of `pymbt`. If you are already familiar with core python data structures, it mostly acts like a container similar to lists or strings, but also provides further object-oriented methods for DNA-specific tasks, like reverse complementation. Most design functions in `pymbt` return a `sequence.DNA` object or something that contains a `sequence.DNA` object (like `sequence.Primer`). In addition, there are related `sequence.RNA` and `sequence.Peptide` objects for representing RNA and peptide sequences and methods for converting between them.\n",
      "\n",
      "To get started with `sequence.DNA`, import the `sequence` module:"
     ]
    },
    {
     "cell_type": "code",
     "collapsed": false,
     "input": [
      "from pymbt import sequence"
     ],
     "language": "python",
     "metadata": {},
     "outputs": [],
     "prompt_number": 1
    },
    {
     "cell_type": "markdown",
     "metadata": {},
     "source": [
      "### Your first sequence\n",
      "\n",
      "Let's jump right into things. Let's make a sequence that's the first 30 bases of gfp from *A. victoria*."
     ]
    },
    {
     "cell_type": "code",
     "collapsed": false,
     "input": [
      "example_dna = sequence.DNA('atgagtaaaggagaagaacttttcactgga')\n",
      "display(example_dna)\n",
      "example_dna"
     ],
     "language": "python",
     "metadata": {},
     "outputs": [
      {
       "metadata": {},
       "output_type": "display_data",
       "text": [
        "linear dsDNA:\n",
        "atgagtaaaggagaagaacttttcactgga\n",
        "tactcatttcctcttcttgaaaagtgacct"
       ]
      },
      {
       "metadata": {},
       "output_type": "pyout",
       "prompt_number": 24,
       "text": [
        "linear dsDNA:\n",
        "atgagtaaaggagaagaacttttcactgga\n",
        "tactcatttcctcttcttgaaaagtgacct"
       ]
      }
     ],
     "prompt_number": 24
    },
    {
     "cell_type": "markdown",
     "metadata": {},
     "source": [
      "`sequence.DNA` does checking on the input to make sure it's really DNA. For now, it supports only unambiguous letters - no N, Y, M, etc."
     ]
    },
    {
     "cell_type": "code",
     "collapsed": false,
     "input": [
      "try:\n",
      "    # Try to make an invalid DNA sequence - none of these characters (including space) are valid DNA\n",
      "    not_dna = sequence.DNA('hello world')\n",
      "except ValueError as e:\n",
      "    # If you put an invalid sequence in, it raises a ValueError with a custom message. \n",
      "    # This prints out the message without the long traceback.\n",
      "    print e"
     ],
     "language": "python",
     "metadata": {},
     "outputs": [
      {
       "output_type": "stream",
       "stream": "stdout",
       "text": [
        "Encountered a non-DNA character\n"
       ]
      }
     ],
     "prompt_number": 3
    },
    {
     "cell_type": "markdown",
     "metadata": {},
     "source": [
      "`sequence.DNA` has most of the special python container methods defined - what this means is that in most cases, you can slice `sequence.DNA` objects just as if they were string or lists."
     ]
    },
    {
     "cell_type": "code",
     "collapsed": false,
     "input": [
      "# Reverse a sequence\n",
      "example_dna[::-1]"
     ],
     "language": "python",
     "metadata": {},
     "outputs": [
      {
       "metadata": {},
       "output_type": "pyout",
       "prompt_number": 4,
       "text": [
        "linear dsDNA:\n",
        "cgtacgta\n",
        "gcatgcat"
       ]
      }
     ],
     "prompt_number": 4
    },
    {
     "cell_type": "code",
     "collapsed": false,
     "input": [
      "# Extract the first three bases\n",
      "example_dna[0:3]"
     ],
     "language": "python",
     "metadata": {},
     "outputs": [
      {
       "metadata": {},
       "output_type": "pyout",
       "prompt_number": 5,
       "text": [
        "linear dsDNA:\n",
        "atg\n",
        "tac"
       ]
      }
     ],
     "prompt_number": 5
    },
    {
     "cell_type": "code",
     "collapsed": false,
     "input": [
      "# Extract the last seven bases\n",
      "example_dna[-7:]"
     ],
     "language": "python",
     "metadata": {},
     "outputs": [
      {
       "metadata": {},
       "output_type": "pyout",
       "prompt_number": 6,
       "text": [
        "linear dsDNA:\n",
        "tgcatgc\n",
        "acgtacg"
       ]
      }
     ],
     "prompt_number": 6
    },
    {
     "cell_type": "code",
     "collapsed": false,
     "input": [
      "# Grab every other base starting at index 0\n",
      "example_dna[::2]"
     ],
     "language": "python",
     "metadata": {},
     "outputs": [
      {
       "metadata": {},
       "output_type": "pyout",
       "prompt_number": 7,
       "text": [
        "linear dsDNA:\n",
        "agag\n",
        "tctc"
       ]
      }
     ],
     "prompt_number": 7
    },
    {
     "cell_type": "code",
     "collapsed": false,
     "input": [
      "# Is the sequence 'AT' in our sequence? How about 'AC'?\n",
      "print \"'AT' is in our sequence: {}.\".format(\"at\" in example_dna)\n",
      "print \"'AC' is in our sequence: {}.\".format(\"ac\" in example_dna)"
     ],
     "language": "python",
     "metadata": {},
     "outputs": [
      {
       "output_type": "stream",
       "stream": "stdout",
       "text": [
        "'AT' is in our sequence: True.\n",
        "'AC' is in our sequence: False.\n"
       ]
      }
     ],
     "prompt_number": 8
    },
    {
     "cell_type": "markdown",
     "metadata": {},
     "source": [
      "Several other common special methods and operators are defined for sequences - you can concatenate DNA (so long as it isn't circular) using `+`, repeat linear sequences using `*` with an integer, check for equality with `==` and `!=` (note: features, not just sequences, must be identical), check the length with `len(dna_object)`, etc."
     ]
    },
    {
     "cell_type": "markdown",
     "metadata": {},
     "source": [
      "### Simple sequences - methods\n",
      "\n",
      "In addition to slicing, `sequence.DNA` provides methods for common molecular manipulations. For example, reverse complementing a sequence is a single call:"
     ]
    },
    {
     "cell_type": "code",
     "collapsed": false,
     "input": [
      "example_dna.reverse_complement()"
     ],
     "language": "python",
     "metadata": {},
     "outputs": [
      {
       "metadata": {},
       "output_type": "pyout",
       "prompt_number": 9,
       "text": [
        "linear dsDNA:\n",
        "gcatgcat\n",
        "cgtacgta"
       ]
      }
     ],
     "prompt_number": 9
    },
    {
     "cell_type": "markdown",
     "metadata": {},
     "source": [
      "An extremely important method is the `.copy()` method. It may seem redundant to have an entire function for copying a sequence - why not just assign a `sequence.DNA` object to a new variable? As in most high-level languages, python does not actually copy entire objects in memory when assignment happens - it just adds another reference to the same data. The short of it is that the very common operation of generating a lot of new variants to a sequence, or copying a sequence, requires the use of a `.copy()` method. For example, if you want to generate a new list of variants where an 'a' is substituted one at a time at each part of the sequence, using `.copy()` returns the correct result (the first example) while directly accessing example_dna has horrible consequences (the edits build up, as they all modify the same piece of data sequentially):"
     ]
    },
    {
     "cell_type": "code",
     "collapsed": false,
     "input": [
      "# Correct way:\n",
      "copy_list = [example_dna.copy() for i, x in enumerate(example_dna)]\n",
      "for i, seq in enumerate(example_dna):\n",
      "    copy_list[i][i] = 'a'\n",
      "print [str(x) for x in copy_list]\n",
      "print\n",
      "\n",
      "# Incorrect way:\n",
      "copy = example_dna.copy()\n",
      "copy_list = [copy for i, x in enumerate(example_dna)]\n",
      "for i, seq in enumerate(example_dna):\n",
      "    copy_list[i][i] = 'a'\n",
      "print [str(x) for x in copy_list]"
     ],
     "language": "python",
     "metadata": {},
     "outputs": [
      {
       "output_type": "stream",
       "stream": "stdout",
       "text": [
        "['atgcatgc', 'aagcatgc', 'atacatgc', 'atgaatgc', 'atgcatgc', 'atgcaagc', 'atgcatac', 'atgcatga']\n",
        "\n",
        "['aaaaaaaa', 'aaaaaaaa', 'aaaaaaaa', 'aaaaaaaa', 'aaaaaaaa', 'aaaaaaaa', 'aaaaaaaa', 'aaaaaaaa']\n"
       ]
      }
     ],
     "prompt_number": 10
    },
    {
     "cell_type": "markdown",
     "metadata": {},
     "source": [
      "An important fact about `sequence.DNA` methods and slicing is that none of the operations modify the object directly - if we look at example_dna, it has not been reverse-complemented itself. Running `example_dna.reverse_complement()` outputs a new sequence, so if you want to save your chance you need to assign a variable:"
     ]
    },
    {
     "cell_type": "code",
     "collapsed": false,
     "input": [
      "revcomp_dna = example_dna.reverse_complement()\n",
      "print example_dna\n",
      "print\n",
      "print revcomp_dna"
     ],
     "language": "python",
     "metadata": {},
     "outputs": [
      {
       "output_type": "stream",
       "stream": "stdout",
       "text": [
        "atgcatgc\n",
        "\n",
        "gcatgcat\n"
       ]
      }
     ],
     "prompt_number": 11
    },
    {
     "cell_type": "markdown",
     "metadata": {},
     "source": [
      "You can also access important attributes of a `sequence.DNA` object directly. The following are examples of how to get important sequences or information about a sequence."
     ]
    },
    {
     "cell_type": "code",
     "collapsed": false,
     "input": [
      "example_dna.top()  # The top strand - a simple python string in the 5' -> 3' orientation."
     ],
     "language": "python",
     "metadata": {},
     "outputs": [
      {
       "metadata": {},
       "output_type": "pyout",
       "prompt_number": 12,
       "text": [
        "'atgcatgc'"
       ]
      }
     ],
     "prompt_number": 12
    },
    {
     "cell_type": "code",
     "collapsed": false,
     "input": [
      "example_dna.bottom()  # The bottom strand - another python string, also in the 5' -> 3' orientation."
     ],
     "language": "python",
     "metadata": {},
     "outputs": [
      {
       "metadata": {},
       "output_type": "pyout",
       "prompt_number": 13,
       "text": [
        "'gcatgcat'"
       ]
      }
     ],
     "prompt_number": 13
    },
    {
     "cell_type": "code",
     "collapsed": false,
     "input": [
      "# Sequences are double stranded, or 'ds' by default. \n",
      "# This is a directly accessible attribute, not a method, so () is not required.\n",
      "example_dna.stranded"
     ],
     "language": "python",
     "metadata": {},
     "outputs": [
      {
       "metadata": {},
       "output_type": "pyout",
       "prompt_number": 14,
       "text": [
        "'ds'"
       ]
      }
     ],
     "prompt_number": 14
    },
    {
     "cell_type": "code",
     "collapsed": false,
     "input": [
      "# To change the 'strandedness', use the set_stranded method\n",
      "example_dna.set_stranded('ss')"
     ],
     "language": "python",
     "metadata": {},
     "outputs": [
      {
       "metadata": {},
       "output_type": "pyout",
       "prompt_number": 15,
       "text": [
        "linear ssDNA:\n",
        "atgcatgc\n",
        "--------"
       ]
      }
     ],
     "prompt_number": 15
    },
    {
     "cell_type": "code",
     "collapsed": false,
     "input": [
      "# To access the topology of the strand, look at the .topology attribute.\n",
      "# Sequences can be either linear or circular.\n",
      "example_dna.topology"
     ],
     "language": "python",
     "metadata": {},
     "outputs": [
      {
       "metadata": {},
       "output_type": "pyout",
       "prompt_number": 16,
       "text": [
        "'linear'"
       ]
      }
     ],
     "prompt_number": 16
    },
    {
     "cell_type": "code",
     "collapsed": false,
     "input": [
      "# You can switch between topologies using the .circularize and .linearize methods\n",
      "circular_dna = example_dna.circularize()\n",
      "circular_dna"
     ],
     "language": "python",
     "metadata": {},
     "outputs": [
      {
       "metadata": {},
       "output_type": "pyout",
       "prompt_number": 17,
       "text": [
        "circular dsDNA:\n",
        "atgcatgc\n",
        "tacgtacg"
       ]
      }
     ],
     "prompt_number": 17
    },
    {
     "cell_type": "code",
     "collapsed": false,
     "input": [
      "# Linearization is more complex - you can choose the index at which to linearize a circular sequence.\n",
      "# This simulates a precise double stranded break at the index of your choosing.\n",
      "# The following example shows the difference between linearizing at index 0 (default) versus index 2\n",
      "# (python 0-indexes, so index 2 = 3rd base, i.e. 'g' in 'atg')\n",
      "print circular_dna.linearize()\n",
      "print\n",
      "print circular_dna.linearize(2)"
     ],
     "language": "python",
     "metadata": {},
     "outputs": [
      {
       "output_type": "stream",
       "stream": "stdout",
       "text": [
        "atgcatgc\n",
        "\n",
        "gcatgcat\n"
       ]
      }
     ],
     "prompt_number": 18
    },
    {
     "cell_type": "code",
     "collapsed": false,
     "input": [
      "# Sometimes you just want to rotate the sequence around - i.e. switch the top and bottom strands. \n",
      "# For this, use the .flip() method\n",
      "example_dna.flip()"
     ],
     "language": "python",
     "metadata": {},
     "outputs": [
      {
       "metadata": {},
       "output_type": "pyout",
       "prompt_number": 19,
       "text": [
        "linear dsDNA:\n",
        "gcatgcat\n",
        "cgtacgta"
       ]
      }
     ],
     "prompt_number": 19
    }
   ],
   "metadata": {}
  }
 ]
}