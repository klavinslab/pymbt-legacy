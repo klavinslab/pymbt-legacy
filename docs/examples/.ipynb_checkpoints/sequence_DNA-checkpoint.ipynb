{
 "metadata": {
  "name": ""
 },
 "nbformat": 3,
 "nbformat_minor": 0,
 "worksheets": [
  {
   "cells": [
    {
     "cell_type": "markdown",
     "metadata": {},
     "source": [
      "# `sequence.DNA`\n",
      "\n",
      "`sequence.DNA` is the core data structure of `pymbt`. It contains DNA sequences and has methods (data-associatd functions) for their manipulation. Most design functions in `pymbt` return a `sequence.DNA` object or something that contains a `sequence.DNA` object (like `sequence.Primer`).\n",
      "\n",
      "For this tutorial we need to read in a genbank sequence and create a new `sequence.DNA` object, so we import the `seqio` and `sequence` modules of `pymbt`."
     ]
    },
    {
     "cell_type": "code",
     "collapsed": false,
     "input": [
      "from pymbt import seqio, sequence"
     ],
     "language": "python",
     "metadata": {},
     "outputs": [],
     "prompt_number": 98
    },
    {
     "cell_type": "markdown",
     "metadata": {},
     "source": [
      "### Simple sequences - slicing\n",
      "\n",
      "Making a new `sequence.DNA` object is very easy - by default, it takes a string to initialize."
     ]
    },
    {
     "cell_type": "code",
     "collapsed": false,
     "input": [
      "example_dna = sequence.DNA('atgcatgc')\n",
      "example_dna"
     ],
     "language": "python",
     "metadata": {},
     "outputs": [
      {
       "metadata": {},
       "output_type": "pyout",
       "prompt_number": 99,
       "text": [
        "linear dsDNA:\n",
        "atgcatgc\n",
        "tacgtacg"
       ]
      }
     ],
     "prompt_number": 99
    },
    {
     "cell_type": "markdown",
     "metadata": {},
     "source": [
      "`sequence.DNA` does checking on the input to make sure it's really DNA. For now, it supports only unambiguous letters - no N, Y, M, etc."
     ]
    },
    {
     "cell_type": "code",
     "collapsed": false,
     "input": [
      "try:\n",
      "    # Try to make an invalid DNA sequence - none of these characters (including space) are valid DNA\n",
      "    not_dna = sequence.DNA('hello world')\n",
      "except ValueError as e:\n",
      "    # If you put an invalid sequence in, it raises a ValueError with a custom message. \n",
      "    # This prints out the message without the long traceback.\n",
      "    print e"
     ],
     "language": "python",
     "metadata": {},
     "outputs": [
      {
       "output_type": "stream",
       "stream": "stdout",
       "text": [
        "Encountered a non-DNA character\n"
       ]
      }
     ],
     "prompt_number": 100
    },
    {
     "cell_type": "markdown",
     "metadata": {},
     "source": [
      "`sequence.DNA` has most of the special python container methods defined - what this means is that in most cases, you can slice `sequence.DNA` objects just as if they were string or lists."
     ]
    },
    {
     "cell_type": "code",
     "collapsed": false,
     "input": [
      "# Reverse a sequence\n",
      "example_dna[::-1]"
     ],
     "language": "python",
     "metadata": {},
     "outputs": [
      {
       "metadata": {},
       "output_type": "pyout",
       "prompt_number": 101,
       "text": [
        "linear dsDNA:\n",
        "cgtacgta\n",
        "gcatgcat"
       ]
      }
     ],
     "prompt_number": 101
    },
    {
     "cell_type": "code",
     "collapsed": false,
     "input": [
      "# Extract the first three bases\n",
      "example_dna[0:3]"
     ],
     "language": "python",
     "metadata": {},
     "outputs": [
      {
       "metadata": {},
       "output_type": "pyout",
       "prompt_number": 102,
       "text": [
        "linear dsDNA:\n",
        "atg\n",
        "tac"
       ]
      }
     ],
     "prompt_number": 102
    },
    {
     "cell_type": "code",
     "collapsed": false,
     "input": [
      "# Extract the last seven bases\n",
      "example_dna[-7:]"
     ],
     "language": "python",
     "metadata": {},
     "outputs": [
      {
       "metadata": {},
       "output_type": "pyout",
       "prompt_number": 103,
       "text": [
        "linear dsDNA:\n",
        "tgcatgc\n",
        "acgtacg"
       ]
      }
     ],
     "prompt_number": 103
    },
    {
     "cell_type": "code",
     "collapsed": false,
     "input": [
      "# Grab every other base starting at index 0\n",
      "example_dna[::2]"
     ],
     "language": "python",
     "metadata": {},
     "outputs": [
      {
       "metadata": {},
       "output_type": "pyout",
       "prompt_number": 104,
       "text": [
        "linear dsDNA:\n",
        "agag\n",
        "tctc"
       ]
      }
     ],
     "prompt_number": 104
    },
    {
     "cell_type": "code",
     "collapsed": false,
     "input": [
      "# Is the sequence 'AT' in our sequence? How about 'AC'?\n",
      "print \"'AT' is in our sequence: {}.\".format(\"at\" in example_dna)\n",
      "print \"'AC' is in our sequence: {}.\".format(\"ac\" in example_dna)"
     ],
     "language": "python",
     "metadata": {},
     "outputs": [
      {
       "output_type": "stream",
       "stream": "stdout",
       "text": [
        "'AT' is in our sequence: True.\n",
        "'AC' is in our sequence: False.\n"
       ]
      }
     ],
     "prompt_number": 105
    },
    {
     "cell_type": "markdown",
     "metadata": {},
     "source": [
      "Several other common special methods and operators are defined for sequences - you can concatenate DNA (so long as it isn't circular) using `+`, repeat linear sequences using `*` with an integer, check for equality with `==` and `!=` (note: features, not just sequences, must be identical), check the length with `len(dna_object)`, etc."
     ]
    },
    {
     "cell_type": "markdown",
     "metadata": {},
     "source": [
      "### Simple sequences - methods\n",
      "\n",
      "In addition to slicing, `sequence.DNA` provides methods for common molecular manipulations. For example, reverse complementing a sequence is a single call:"
     ]
    },
    {
     "cell_type": "code",
     "collapsed": false,
     "input": [
      "example_dna.reverse_complement()"
     ],
     "language": "python",
     "metadata": {},
     "outputs": [
      {
       "metadata": {},
       "output_type": "pyout",
       "prompt_number": 106,
       "text": [
        "linear dsDNA:\n",
        "gcatgcat\n",
        "cgtacgta"
       ]
      }
     ],
     "prompt_number": 106
    },
    {
     "cell_type": "markdown",
     "metadata": {},
     "source": [
      "An extremely important method is the `.copy()` method. It may seem redundant to have an entire function for copying a sequence - why not just assign a `sequence.DNA` object to a new variable? As in most high-level languages, python does not actually copy entire objects in memory when assignment happens - it just adds another reference to the same data. The short of it is that the very common operation of generating a lot of new variants to a sequence, or copying a sequence, requires the use of a `.copy()` method. For example, if you want to generate a new list of variants where an 'a' is substituted one at a time at each part of the sequence, using `.copy()` returns the correct result (the first example) while directly accessing example_dna has horrible consequences (the edits build up, as they all modify the same piece of data sequentially):"
     ]
    },
    {
     "cell_type": "code",
     "collapsed": false,
     "input": [
      "# Correct way:\n",
      "copy_list = [example_dna.copy() for i, x in enumerate(example_dna)]\n",
      "for i, seq in enumerate(example_dna):\n",
      "    copy_list[i][i] = 'a'\n",
      "print [str(x) for x in copy_list]\n",
      "print\n",
      "\n",
      "# Incorrect way:\n",
      "copy = example_dna.copy()\n",
      "copy_list = [copy for i, x in enumerate(example_dna)]\n",
      "for i, seq in enumerate(example_dna):\n",
      "    copy_list[i][i] = 'a'\n",
      "print [str(x) for x in copy_list]"
     ],
     "language": "python",
     "metadata": {},
     "outputs": [
      {
       "output_type": "stream",
       "stream": "stdout",
       "text": [
        "['atgcatgc', 'aagcatgc', 'atacatgc', 'atgaatgc', 'atgcatgc', 'atgcaagc', 'atgcatac', 'atgcatga']\n",
        "\n",
        "['aaaaaaaa', 'aaaaaaaa', 'aaaaaaaa', 'aaaaaaaa', 'aaaaaaaa', 'aaaaaaaa', 'aaaaaaaa', 'aaaaaaaa']\n"
       ]
      }
     ],
     "prompt_number": 129
    },
    {
     "cell_type": "markdown",
     "metadata": {},
     "source": [
      "An important fact about `sequence.DNA` methods and slicing is that none of the operations modify the object directly - if we look at example_dna, it has not been reverse-complemented itself. Running `example_dna.reverse_complement()` outputs a new sequence, so if you want to save your chance you need to assign a variable:"
     ]
    },
    {
     "cell_type": "code",
     "collapsed": false,
     "input": [
      "revcomp_dna = example_dna.reverse_complement()\n",
      "print example_dna\n",
      "print\n",
      "print revcomp_dna"
     ],
     "language": "python",
     "metadata": {},
     "outputs": [
      {
       "output_type": "stream",
       "stream": "stdout",
       "text": [
        "atgcatgc\n",
        "\n",
        "gcatgcat\n"
       ]
      }
     ],
     "prompt_number": 108
    },
    {
     "cell_type": "markdown",
     "metadata": {},
     "source": [
      "You can also access important attributes of a `sequence.DNA` object directly. The following are examples of how to get important sequences or information about a sequence."
     ]
    },
    {
     "cell_type": "code",
     "collapsed": false,
     "input": [
      "example_dna.top()  # The top strand - a simple python string in the 5' -> 3' orientation."
     ],
     "language": "python",
     "metadata": {},
     "outputs": [
      {
       "metadata": {},
       "output_type": "pyout",
       "prompt_number": 109,
       "text": [
        "'atgcatgc'"
       ]
      }
     ],
     "prompt_number": 109
    },
    {
     "cell_type": "code",
     "collapsed": false,
     "input": [
      "example_dna.bottom()  # The bottom strand - another python string, also in the 5' -> 3' orientation."
     ],
     "language": "python",
     "metadata": {},
     "outputs": [
      {
       "metadata": {},
       "output_type": "pyout",
       "prompt_number": 110,
       "text": [
        "'gcatgcat'"
       ]
      }
     ],
     "prompt_number": 110
    },
    {
     "cell_type": "code",
     "collapsed": false,
     "input": [
      "# Sequences are double stranded, or 'ds' by default. \n",
      "# This is a directly accessible attribute, not a method, so () is not required.\n",
      "example_dna.stranded"
     ],
     "language": "python",
     "metadata": {},
     "outputs": [
      {
       "metadata": {},
       "output_type": "pyout",
       "prompt_number": 111,
       "text": [
        "'ds'"
       ]
      }
     ],
     "prompt_number": 111
    },
    {
     "cell_type": "code",
     "collapsed": false,
     "input": [
      "# To change the 'strandedness', use the set_stranded method\n",
      "example_dna.set_stranded('ss')"
     ],
     "language": "python",
     "metadata": {},
     "outputs": [
      {
       "metadata": {},
       "output_type": "pyout",
       "prompt_number": 112,
       "text": [
        "linear ssDNA:\n",
        "atgcatgc\n",
        "--------"
       ]
      }
     ],
     "prompt_number": 112
    },
    {
     "cell_type": "code",
     "collapsed": false,
     "input": [
      "# To access the topology of the strand, look at the .topology attribute.\n",
      "# Sequences can be either linear or circular.\n",
      "example_dna.topology"
     ],
     "language": "python",
     "metadata": {},
     "outputs": [
      {
       "metadata": {},
       "output_type": "pyout",
       "prompt_number": 113,
       "text": [
        "'linear'"
       ]
      }
     ],
     "prompt_number": 113
    },
    {
     "cell_type": "code",
     "collapsed": false,
     "input": [
      "# You can switch between topologies using the .circularize and .linearize methods\n",
      "circular_dna = example_dna.circularize()\n",
      "circular_dna"
     ],
     "language": "python",
     "metadata": {},
     "outputs": [
      {
       "metadata": {},
       "output_type": "pyout",
       "prompt_number": 114,
       "text": [
        "circular dsDNA:\n",
        "atgcatgc\n",
        "tacgtacg"
       ]
      }
     ],
     "prompt_number": 114
    },
    {
     "cell_type": "code",
     "collapsed": false,
     "input": [
      "# Linearization is more complex - you can choose the index at which to linearize a circular sequence.\n",
      "# This simulates a precise double stranded break at the index of your choosing.\n",
      "# The following example shows the difference between linearizing at index 0 (default) versus index 2\n",
      "# (python 0-indexes, so index 2 = 3rd base, i.e. 'g' in 'atg')\n",
      "print circular_dna.linearize()\n",
      "print\n",
      "print circular_dna.linearize(2)"
     ],
     "language": "python",
     "metadata": {},
     "outputs": [
      {
       "output_type": "stream",
       "stream": "stdout",
       "text": [
        "atgcatgc\n",
        "\n",
        "gcatgcat\n"
       ]
      }
     ],
     "prompt_number": 115
    },
    {
     "cell_type": "code",
     "collapsed": false,
     "input": [
      "# Sometimes you just want to rotate the sequence around - i.e. switch the top and bottom strands. \n",
      "# For this, use the .swap() method\n",
      "example_dna.swap()"
     ],
     "language": "python",
     "metadata": {},
     "outputs": [
      {
       "metadata": {},
       "output_type": "pyout",
       "prompt_number": 116,
       "text": [
        "linear dsDNA:\n",
        "gcatgcat\n",
        "cgtacgta"
       ]
      }
     ],
     "prompt_number": 116
    },
    {
     "cell_type": "markdown",
     "metadata": {},
     "source": [
      "### Complex DNA sequences\n",
      "\n",
      "More complex sequences (like plasmids) have many annotated pieces and benefit from other methods. `sequence.DNA` has many methods for accessing and modifying complex sequences.\n",
      "\n",
      "The following sequence is a plasmid that integrates at the *S. cerevisiae* HO locus via ends-out integration, inserting the GEV transactivator from McIsaac et al. 2011:"
     ]
    },
    {
     "cell_type": "code",
     "collapsed": false,
     "input": [
      "pKL278 = seqio.read_dna('./files_for_docs/maps/pMODKan-HO-pACT1GEV.ape')"
     ],
     "language": "python",
     "metadata": {},
     "outputs": [],
     "prompt_number": 117
    },
    {
     "cell_type": "markdown",
     "metadata": {},
     "source": [
      "Sequences have `.name` and `.id` attributes that are empty string by default. By convention, you should fill them with appropriate strings for your use case - the name is a human-readable name while id should be a unique number or string."
     ]
    },
    {
     "cell_type": "code",
     "collapsed": false,
     "input": [
      "pKL278.name  # Raw genbank name field - truncated due to genbank specifications"
     ],
     "language": "python",
     "metadata": {},
     "outputs": [
      {
       "metadata": {},
       "output_type": "pyout",
       "prompt_number": 118,
       "text": [
        "'pMODKan_HO_pACT1GE'"
       ]
      }
     ],
     "prompt_number": 118
    },
    {
     "cell_type": "markdown",
     "metadata": {},
     "source": [
      "Large sequences have summary representations, useful for getting a general idea of which sequence you're manipulating"
     ]
    },
    {
     "cell_type": "code",
     "collapsed": false,
     "input": [
      "pKL278  # The sequence representation - shows ~40 bases on each side."
     ],
     "language": "python",
     "metadata": {},
     "outputs": [
      {
       "metadata": {},
       "output_type": "pyout",
       "prompt_number": 119,
       "text": [
        "circular dsDNA:\n",
        "tcgcgcgtttcggtgatgacggtgaaaacctctgacacat ... ttaacctataaaaataggcgtatcacgaggccctttcgtc\n",
        "agcgcgcaaagccactactgccacttttggagactgtgta ... aattggatatttttatccgcatagtgctccgggaaagcag"
       ]
      }
     ],
     "prompt_number": 119
    },
    {
     "cell_type": "markdown",
     "metadata": {},
     "source": [
      "Complex sequences usually have annotations to categorize functional or important elements. This plasmid has a lot of features - it's a yeast shuttle vector, so it has sequences for propagating in *E. coli*, sequences for integrating into the *S. cerevisiae* genome, sequences for selection after transformation, and an expression cassette (promoter, gene, terminator). In addition, it has common primer sites and annotated subsequences."
     ]
    },
    {
     "cell_type": "code",
     "collapsed": false,
     "input": [
      "pKL278.features  # Man that's way too many features"
     ],
     "language": "python",
     "metadata": {},
     "outputs": [
      {
       "metadata": {},
       "output_type": "pyout",
       "prompt_number": 120,
       "text": [
        "[pGEX_3_primer 'misc_feature' feature (28 to 51) on strand 0,\n",
        " pMOD_t1pre 'misc_feature' feature (132 to 154) on strand 1,\n",
        " PmeI(1) 'misc_feature' feature (154 to 162) on strand 1,\n",
        " HO Targeting 1 'misc_feature' feature (162 to 725) on strand 1,\n",
        " pMOD_t1suf 'misc_feature' feature (725 to 755) on strand 1,\n",
        " KANMX Wach et al 1994 (genome del. project) 'misc_feature' feature (755 to 1152) on strand 1,\n",
        " KanMX CDS 'misc_feature' feature (1152 to 1962) on strand 1,\n",
        " KanMX terminator 'misc_feature' feature (1962 to 2200) on strand 1,\n",
        " M13 Forward (-47) primer 'primer_bind' feature (2200 to 2224) on strand 1,\n",
        " pACT1 'misc_feature' feature (2224 to 2885) on strand 1,\n",
        " Extra sequence not found in Gottschling map 'misc_feature' feature (2921 to 2932) on strand 1,\n",
        " GAL4(1-93) DBD 'misc_feature' feature (2940 to 3218) on strand 1,\n",
        " Differs from Gottschling map (backbone) 'misc_feature' feature (3218 to 3219) on strand 1,\n",
        " hER HBD 'misc_feature' feature (3255 to 4140) on strand 1,\n",
        " HSV1 VP16 'misc_feature' feature (4140 to 4344) on strand 1,\n",
        " Differs from Gottschling Map 'misc_feature' feature (4235 to 4236) on strand 1,\n",
        " stop codon 'misc_feature' feature (4344 to 4347) on strand 1,\n",
        " L2 'misc_feature' feature (4347 to 4377) on strand 1,\n",
        " T + pBluescript KS linker 'misc_feature' feature (4377 to 4399) on strand 1,\n",
        " CYC1 'terminator' feature (4403 to 4643) on strand 1,\n",
        " pYESTrp_rev primer 'primer_bind' feature (4412 to 4431) on strand 0,\n",
        " T7 EEV primer 'primer_bind' feature (4643 to 4665) on strand 1,\n",
        " upstream HO targeting 'misc_feature' feature (4665 to 5571) on strand 1,\n",
        " PmeI 'misc_feature' feature (5571 to 5579) on strand 1,\n",
        " PmeI site 'misc_feature' feature (5571 to 5579) on strand 1,\n",
        " M13R 'misc_feature' feature (5579 to 5619) on strand 1,\n",
        " origin-extended 'misc_feature' feature (5804 to 5889) on strand 1,\n",
        " ori 'misc_feature' feature (5889 to 6744) on strand 1,\n",
        " is a g in normal maps. 'misc_feature' feature (6426 to 6427) on strand 1,\n",
        " bla 'misc_feature' feature (6744 to 7605) on strand 1,\n",
        " AmpR promoter 'misc_feature' feature (7605 to 7684) on strand 1,\n",
        " New Feature 'misc_feature' feature (7684 to 7704) on strand 1]"
       ]
      }
     ],
     "prompt_number": 120
    },
    {
     "cell_type": "markdown",
     "metadata": {},
     "source": [
      "With all of these features, manual slicing is inconvenient. The `.extract()` method makes it easy to isolate features from a complex sequence:"
     ]
    },
    {
     "cell_type": "code",
     "collapsed": false,
     "input": [
      "# The beta-lactamase coding sequence, essential for propagation in *E. coli* on Amp/Carb media.\n",
      "# Note that it is transcribed in the direction of the bottom strand (right to left on this sequence)\n",
      "pKL278.extract('bla')"
     ],
     "language": "python",
     "metadata": {},
     "outputs": [
      {
       "metadata": {},
       "output_type": "pyout",
       "prompt_number": 121,
       "text": [
        "linear dsDNA:\n",
        "ttaccaatgcttaatcagtgaggcacctatctcagcgatc ... aaaagggaataagggcgacacggaaatgttgaatactcat\n",
        "aatggttacgaattagtcactccgtggatagagtcgctag ... ttttcccttattcccgctgtgcctttacaacttatgagta"
       ]
      }
     ],
     "prompt_number": 121
    },
    {
     "cell_type": "markdown",
     "metadata": {},
     "source": [
      "The `.features` attribute is just a list of `sequence.Feature` objects - you can add or remove them at will using standard python list methods (like `.pop` and `.append`). The use of `sequence.Feature` will be covered in a different tutorial."
     ]
    },
    {
     "cell_type": "markdown",
     "metadata": {},
     "source": [
      "In addition, you can efficiently match patterns in your sequence using `.locate()`, which searches for a string on both the top and bottom strands, returning a tuple containing the indexes of the matches (top and bottom strands). In the following case, there are 8 matches for the top strand and 5 for the bottom strand. In the case of a palindromic query, only the top strand is reported."
     ]
    },
    {
     "cell_type": "code",
     "collapsed": false,
     "input": [
      "pKL278.locate('atgcc')  # All occurrences of the pattern atgcc on the top and bottom strands (both 5'->3')"
     ],
     "language": "python",
     "metadata": {},
     "outputs": [
      {
       "metadata": {},
       "output_type": "pyout",
       "prompt_number": 122,
       "text": [
        "([78, 286, 1380, 2431, 4177, 4315, 7261, 7556], [737, 3718, 3828, 4131, 6939])"
       ]
      }
     ],
     "prompt_number": 122
    },
    {
     "cell_type": "markdown",
     "metadata": {},
     "source": [
      "### Other methods\n",
      "\n",
      "There are additional methods that can't be (easily) demonstrated in this tutorial.\n",
      "\n",
      "The `.ape()` method will launch ApE with your sequence if it is found in your PATH environment variable. This enables some convenient analyses that are faster with a GUI like simulating a digest or viewing the general layout of annotations."
     ]
    },
    {
     "cell_type": "code",
     "collapsed": false,
     "input": [],
     "language": "python",
     "metadata": {},
     "outputs": [],
     "prompt_number": 122
    }
   ],
   "metadata": {}
  }
 ]
}