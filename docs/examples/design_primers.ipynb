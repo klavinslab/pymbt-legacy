{
 "metadata": {
  "name": ""
 },
 "nbformat": 3,
 "nbformat_minor": 0,
 "worksheets": [
  {
   "cells": [
    {
     "cell_type": "markdown",
     "metadata": {},
     "source": [
      "# Primer Design\n",
      "\n",
      "One of the first things anyone learns in a molecular biology lab is how to design primers. The exact strategies vary a lot and are sometimes polymerase-specific. `pymbt` uses the Klavins' lab approach of targeting a specific melting temperature (Tm) and nothing else, with the exact Tm targeted being between 65\u00b0C and 72\u00b0C, the choice being personal preference. `pymbt` currently defaults to 72\u00b0C on the Phusion (modified Breslauer 1986) Tm calculator.\n",
      "\n",
      "`pymbt.design_primer` is a function that takes in a `sequence.DNA` object and rapidly finds the 5' subsequence that is closest to the desired Tm (within a user-definable error range). If the entire sequence would make a primer with too low of a Tm, a descriptive error is produced.\n",
      "\n",
      "For this tutorial, let's design primers that will amplify the gene EYFP."
     ]
    },
    {
     "cell_type": "code",
     "collapsed": false,
     "input": [
      "from pymbt import design, seqio, sequence"
     ],
     "language": "python",
     "metadata": {},
     "outputs": [],
     "prompt_number": 24
    },
    {
     "cell_type": "markdown",
     "metadata": {},
     "source": [
      "First we read in a plasmid from Havens et al. 2012 and isolate the EYFP sequence."
     ]
    },
    {
     "cell_type": "code",
     "collapsed": false,
     "input": [
      "plasmid = seqio.read_dna(\"./files_for_docs/maps/pGP4G-EYFP.ape\")\n",
      "eyfp = plasmid.extract(\"EYFP\")\n",
      "print len(eyfp)\n",
      "eyfp"
     ],
     "language": "python",
     "metadata": {},
     "outputs": [
      {
       "output_type": "stream",
       "stream": "stdout",
       "text": [
        "717\n"
       ]
      },
      {
       "metadata": {},
       "output_type": "pyout",
       "prompt_number": 25,
       "text": [
        "linear dsDNA:\n",
        "atggtgagcaagggcgaggagctgttcaccggggtggtgc ... cgccgccgggatcactctcggcatggacgagctgtacaag\n",
        "taccactcgttcccgctcctcgacaagtggccccaccacg ... gcggcggccctagtgagagccgtacctgctcgacatgttc"
       ]
      }
     ],
     "prompt_number": 25
    },
    {
     "cell_type": "markdown",
     "metadata": {},
     "source": [
      "Designing primers is straightforward - you just call `design.design_primer` with a `sequence.DNA` object as the input."
     ]
    },
    {
     "cell_type": "code",
     "collapsed": false,
     "input": [
      "# Forward and reverse, one at a time using design_primer()\n",
      "forward = design.design_primer(eyfp)\n",
      "reverse = design.design_primer(eyfp.reverse_complement())\n",
      "# Both at once using design_primers()\n",
      "forward, reverse = design.design_primers(eyfp)\n",
      "# design_primer has many options, including adding overhangs\n",
      "custom_forward = design.design_primer(eyfp, tm=65, min_len=12, \n",
      "                                      tm_undershoot=1, tm_overshoot=1, \n",
      "                                      end_gc=True, tm_parameters=\"santalucia98\", \n",
      "                                      overhang=sequence.DNA(\"GGGGGATCGAT\"))\n",
      "print forward\n",
      "print\n",
      "print custom_forward"
     ],
     "language": "python",
     "metadata": {},
     "outputs": [
      {
       "output_type": "stream",
       "stream": "stdout",
       "text": [
        "atggtgagcaagggcgaggag\n",
        "\n",
        "gggggatcgatatggtgagcaagggcgaggagctgttcac\n"
       ]
      }
     ],
     "prompt_number": 30
    }
   ],
   "metadata": {}
  }
 ]
}